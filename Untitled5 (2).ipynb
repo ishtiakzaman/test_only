{
 "cells": [
  {
   "cell_type": "code",
   "execution_count": 1,
   "id": "652fbaab",
   "metadata": {},
   "outputs": [],
   "source": [
    "%load_ext autoreload\n",
    "%autoreload 2"
   ]
  },
  {
   "cell_type": "code",
   "execution_count": 2,
   "id": "6ac6c669",
   "metadata": {},
   "outputs": [
    {
     "ename": "ModuleNotFoundError",
     "evalue": "No module named 'risotto'",
     "output_type": "error",
     "traceback": [
      "\u001b[1;31m---------------------------------------------------------------------------\u001b[0m",
      "\u001b[1;31mModuleNotFoundError\u001b[0m                       Traceback (most recent call last)",
      "\u001b[1;32m~\\AppData\\Local\\Temp/ipykernel_9376/691569304.py\u001b[0m in \u001b[0;36m<module>\u001b[1;34m\u001b[0m\n\u001b[0;32m      4\u001b[0m \u001b[1;32mfrom\u001b[0m \u001b[0mfastprogress\u001b[0m\u001b[1;33m.\u001b[0m\u001b[0mfastprogress\u001b[0m \u001b[1;32mimport\u001b[0m \u001b[0mprogress_bar\u001b[0m\u001b[1;33m\u001b[0m\u001b[1;33m\u001b[0m\u001b[0m\n\u001b[0;32m      5\u001b[0m \u001b[1;33m\u001b[0m\u001b[0m\n\u001b[1;32m----> 6\u001b[1;33m \u001b[1;32mfrom\u001b[0m \u001b[0mrisotto\u001b[0m\u001b[1;33m.\u001b[0m\u001b[0mlda\u001b[0m \u001b[1;32mimport\u001b[0m \u001b[0mtokenizer\u001b[0m\u001b[1;33m\u001b[0m\u001b[1;33m\u001b[0m\u001b[0m\n\u001b[0m\u001b[0;32m      7\u001b[0m \u001b[1;32mfrom\u001b[0m \u001b[0mrisotto\u001b[0m\u001b[1;33m.\u001b[0m\u001b[0mreferences\u001b[0m \u001b[1;32mimport\u001b[0m \u001b[0mload_papers_from_metadata_file\u001b[0m\u001b[1;33m,\u001b[0m \u001b[0mpaper_as_markdown\u001b[0m\u001b[1;33m\u001b[0m\u001b[1;33m\u001b[0m\u001b[0m\n\u001b[0;32m      8\u001b[0m \u001b[1;32mfrom\u001b[0m \u001b[0mrisotto\u001b[0m\u001b[1;33m.\u001b[0m\u001b[0mlda\u001b[0m \u001b[1;32mimport\u001b[0m \u001b[0mprocess_papers_file_contents\u001b[0m\u001b[1;33m\u001b[0m\u001b[1;33m\u001b[0m\u001b[0m\n",
      "\u001b[1;31mModuleNotFoundError\u001b[0m: No module named 'risotto'"
     ]
    }
   ],
   "source": [
    "from sklearn.feature_extraction.text import CountVectorizer\n",
    "from sklearn.decomposition import LatentDirichletAllocation\n",
    "\n",
    "from fastprogress.fastprogress import progress_bar\n",
    "\n",
    "from risotto.lda import tokenizer\n",
    "from risotto.references import load_papers_from_metadata_file, paper_as_markdown\n",
    "from risotto.lda import process_papers_file_contents\n",
    "from risotto.lda import topic_descriptors\n",
    "from risotto.sampler import HierarchicalLDA\n",
    "\n",
    "import pickle, random\n",
    "from pathlib import Path"
   ]
  },
  {
   "cell_type": "code",
   "execution_count": 1,
   "id": "48c16c78",
   "metadata": {},
   "outputs": [
    {
     "name": "stdout",
     "output_type": "stream",
     "text": [
      "Collecting risotto\n",
      "  Cloning https://github.com/mraspaud/risotto.git to c:\\users\\de\\appdata\\local\\temp\\pip-install-7w4zu_tt\\risotto_853d6381511f4b76b147b44be23ebf09\n",
      "  Resolved https://github.com/mraspaud/risotto.git to commit fb42cefe72e1684983fb05c25ebb52ff7d8f89e6\n",
      "Requirement already satisfied: numpy in c:\\users\\de\\anaconda3\\lib\\site-packages (from risotto) (1.22.4)\n",
      "Building wheels for collected packages: risotto\n",
      "  Building wheel for risotto (setup.py): started\n",
      "  Building wheel for risotto (setup.py): finished with status 'error'\n",
      "  Running setup.py clean for risotto\n",
      "Note: you may need to restart the kernel to use updated packages.Failed to build risotto\n",
      "\n"
     ]
    },
    {
     "name": "stderr",
     "output_type": "stream",
     "text": [
      "  Running command git clone -q https://github.com/mraspaud/risotto.git 'C:\\Users\\De\\AppData\\Local\\Temp\\pip-install-7w4zu_tt\\risotto_853d6381511f4b76b147b44be23ebf09'\n",
      "  ERROR: Command errored out with exit status 1:\n",
      "   command: 'C:\\Users\\De\\anaconda3\\python.exe' -u -c 'import io, os, sys, setuptools, tokenize; sys.argv[0] = '\"'\"'C:\\\\Users\\\\De\\\\AppData\\\\Local\\\\Temp\\\\pip-install-7w4zu_tt\\\\risotto_853d6381511f4b76b147b44be23ebf09\\\\setup.py'\"'\"'; __file__='\"'\"'C:\\\\Users\\\\De\\\\AppData\\\\Local\\\\Temp\\\\pip-install-7w4zu_tt\\\\risotto_853d6381511f4b76b147b44be23ebf09\\\\setup.py'\"'\"';f = getattr(tokenize, '\"'\"'open'\"'\"', open)(__file__) if os.path.exists(__file__) else io.StringIO('\"'\"'from setuptools import setup; setup()'\"'\"');code = f.read().replace('\"'\"'\\r\\n'\"'\"', '\"'\"'\\n'\"'\"');f.close();exec(compile(code, __file__, '\"'\"'exec'\"'\"'))' bdist_wheel -d 'C:\\Users\\De\\AppData\\Local\\Temp\\pip-wheel-mnk1yor6'\n",
      "       cwd: C:\\Users\\De\\AppData\\Local\\Temp\\pip-install-7w4zu_tt\\risotto_853d6381511f4b76b147b44be23ebf09\\\n",
      "  Complete output (18 lines):\n",
      "  C:\\Users\\De\\anaconda3\\lib\\site-packages\\setuptools\\dist.py:717: UserWarning: Usage of dash-separated 'description-file' will not be supported in future versions. Please use the underscore name 'description_file' instead\n",
      "    warnings.warn(\n",
      "  running bdist_wheel\n",
      "  running build\n",
      "  running build_py\n",
      "  creating build\n",
      "  creating build\\lib.win-amd64-3.9\n",
      "  creating build\\lib.win-amd64-3.9\\risotto\n",
      "  copying risotto\\__init__.py -> build\\lib.win-amd64-3.9\\risotto\n",
      "  running build_ext\n",
      "  building 'risotto._risotto' extension\n",
      "  creating build\\temp.win-amd64-3.9\n",
      "  creating build\\temp.win-amd64-3.9\\Release\n",
      "  creating build\\temp.win-amd64-3.9\\Release\\risotto\n",
      "  C:\\Program Files (x86)\\Microsoft Visual Studio\\2022\\BuildTools\\VC\\Tools\\MSVC\\14.32.31326\\bin\\HostX86\\x64\\cl.exe /c /nologo /Ox /W3 /GL /DNDEBUG /MD -IC:\\Users\\De\\anaconda3\\include -IC:\\Users\\De\\anaconda3\\include -IC:\\Program Files (x86)\\Microsoft Visual Studio\\2022\\BuildTools\\VC\\Tools\\MSVC\\14.32.31326\\include -IC:\\Program Files (x86)\\Windows Kits\\10\\include\\10.0.19041.0\\ucrt -IC:\\Program Files (x86)\\Windows Kits\\10\\\\include\\10.0.19041.0\\\\shared -IC:\\Program Files (x86)\\Windows Kits\\10\\\\include\\10.0.19041.0\\\\um -IC:\\Program Files (x86)\\Windows Kits\\10\\\\include\\10.0.19041.0\\\\winrt -IC:\\Program Files (x86)\\Windows Kits\\10\\\\include\\10.0.19041.0\\\\cppwinrt /Tcrisotto/_risotto.c /Fobuild\\temp.win-amd64-3.9\\Release\\risotto/_risotto.obj\n",
      "  _risotto.c\n",
      "  risotto/_risotto.c(711): fatal error C1083: Cannot open include file: 'numpy/arrayobject.h': No such file or directory\n",
      "  error: command 'C:\\\\Program Files (x86)\\\\Microsoft Visual Studio\\\\2022\\\\BuildTools\\\\VC\\\\Tools\\\\MSVC\\\\14.32.31326\\\\bin\\\\HostX86\\\\x64\\\\cl.exe' failed with exit code 2"
     ]
    },
    {
     "name": "stdout",
     "output_type": "stream",
     "text": [
      "Installing collected packages: risotto\n",
      "    Running setup.py install for risotto: started\n",
      "    Running setup.py install for risotto: finished with status 'error'\n"
     ]
    },
    {
     "name": "stderr",
     "output_type": "stream",
     "text": [
      "\n",
      "  ----------------------------------------\n",
      "  ERROR: Failed building wheel for risotto\n",
      "    ERROR: Command errored out with exit status 1:\n",
      "     command: 'C:\\Users\\De\\anaconda3\\python.exe' -u -c 'import io, os, sys, setuptools, tokenize; sys.argv[0] = '\"'\"'C:\\\\Users\\\\De\\\\AppData\\\\Local\\\\Temp\\\\pip-install-7w4zu_tt\\\\risotto_853d6381511f4b76b147b44be23ebf09\\\\setup.py'\"'\"'; __file__='\"'\"'C:\\\\Users\\\\De\\\\AppData\\\\Local\\\\Temp\\\\pip-install-7w4zu_tt\\\\risotto_853d6381511f4b76b147b44be23ebf09\\\\setup.py'\"'\"';f = getattr(tokenize, '\"'\"'open'\"'\"', open)(__file__) if os.path.exists(__file__) else io.StringIO('\"'\"'from setuptools import setup; setup()'\"'\"');code = f.read().replace('\"'\"'\\r\\n'\"'\"', '\"'\"'\\n'\"'\"');f.close();exec(compile(code, __file__, '\"'\"'exec'\"'\"'))' install --record 'C:\\Users\\De\\AppData\\Local\\Temp\\pip-record-4ka9ddc7\\install-record.txt' --single-version-externally-managed --compile --install-headers 'C:\\Users\\De\\anaconda3\\Include\\risotto'\n",
      "         cwd: C:\\Users\\De\\AppData\\Local\\Temp\\pip-install-7w4zu_tt\\risotto_853d6381511f4b76b147b44be23ebf09\\\n",
      "    Complete output (18 lines):\n",
      "    C:\\Users\\De\\anaconda3\\lib\\site-packages\\setuptools\\dist.py:717: UserWarning: Usage of dash-separated 'description-file' will not be supported in future versions. Please use the underscore name 'description_file' instead\n",
      "      warnings.warn(\n",
      "    running install\n",
      "    running build\n",
      "    running build_py\n",
      "    creating build\n",
      "    creating build\\lib.win-amd64-3.9\n",
      "    creating build\\lib.win-amd64-3.9\\risotto\n",
      "    copying risotto\\__init__.py -> build\\lib.win-amd64-3.9\\risotto\n",
      "    running build_ext\n",
      "    building 'risotto._risotto' extension\n",
      "    creating build\\temp.win-amd64-3.9\n",
      "    creating build\\temp.win-amd64-3.9\\Release\n",
      "    creating build\\temp.win-amd64-3.9\\Release\\risotto\n",
      "    C:\\Program Files (x86)\\Microsoft Visual Studio\\2022\\BuildTools\\VC\\Tools\\MSVC\\14.32.31326\\bin\\HostX86\\x64\\cl.exe /c /nologo /Ox /W3 /GL /DNDEBUG /MD -IC:\\Users\\De\\anaconda3\\include -IC:\\Users\\De\\anaconda3\\include -IC:\\Program Files (x86)\\Microsoft Visual Studio\\2022\\BuildTools\\VC\\Tools\\MSVC\\14.32.31326\\include -IC:\\Program Files (x86)\\Windows Kits\\10\\include\\10.0.19041.0\\ucrt -IC:\\Program Files (x86)\\Windows Kits\\10\\\\include\\10.0.19041.0\\\\shared -IC:\\Program Files (x86)\\Windows Kits\\10\\\\include\\10.0.19041.0\\\\um -IC:\\Program Files (x86)\\Windows Kits\\10\\\\include\\10.0.19041.0\\\\winrt -IC:\\Program Files (x86)\\Windows Kits\\10\\\\include\\10.0.19041.0\\\\cppwinrt /Tcrisotto/_risotto.c /Fobuild\\temp.win-amd64-3.9\\Release\\risotto/_risotto.obj\n",
      "    _risotto.c\n",
      "    risotto/_risotto.c(711): fatal error C1083: Cannot open include file: 'numpy/arrayobject.h': No such file or directory\n",
      "    error: command 'C:\\\\Program Files (x86)\\\\Microsoft Visual Studio\\\\2022\\\\BuildTools\\\\VC\\\\Tools\\\\MSVC\\\\14.32.31326\\\\bin\\\\HostX86\\\\x64\\\\cl.exe' failed with exit code 2\n",
      "    ----------------------------------------\n",
      "ERROR: Command errored out with exit status 1: 'C:\\Users\\De\\anaconda3\\python.exe' -u -c 'import io, os, sys, setuptools, tokenize; sys.argv[0] = '\"'\"'C:\\\\Users\\\\De\\\\AppData\\\\Local\\\\Temp\\\\pip-install-7w4zu_tt\\\\risotto_853d6381511f4b76b147b44be23ebf09\\\\setup.py'\"'\"'; __file__='\"'\"'C:\\\\Users\\\\De\\\\AppData\\\\Local\\\\Temp\\\\pip-install-7w4zu_tt\\\\risotto_853d6381511f4b76b147b44be23ebf09\\\\setup.py'\"'\"';f = getattr(tokenize, '\"'\"'open'\"'\"', open)(__file__) if os.path.exists(__file__) else io.StringIO('\"'\"'from setuptools import setup; setup()'\"'\"');code = f.read().replace('\"'\"'\\r\\n'\"'\"', '\"'\"'\\n'\"'\"');f.close();exec(compile(code, __file__, '\"'\"'exec'\"'\"'))' install --record 'C:\\Users\\De\\AppData\\Local\\Temp\\pip-record-4ka9ddc7\\install-record.txt' --single-version-externally-managed --compile --install-headers 'C:\\Users\\De\\anaconda3\\Include\\risotto' Check the logs for full command output.\n"
     ]
    }
   ],
   "source": [
    "pip install git+https://github.com/mraspaud/risotto.git#egg=risotto"
   ]
  },
  {
   "cell_type": "code",
   "execution_count": 2,
   "id": "272a79e8",
   "metadata": {},
   "outputs": [
    {
     "name": "stdout",
     "output_type": "stream",
     "text": [
      "Requirement already satisfied: python-git in c:\\users\\de\\anaconda3\\lib\\site-packages (2018.2.1)\n",
      "Requirement already satisfied: send2trash in c:\\users\\de\\anaconda3\\lib\\site-packages (from python-git) (1.8.0)\n",
      "Note: you may need to restart the kernel to use updated packages.\n"
     ]
    }
   ],
   "source": [
    "pip install python-git"
   ]
  },
  {
   "cell_type": "code",
   "execution_count": 8,
   "id": "b5295394",
   "metadata": {},
   "outputs": [
    {
     "name": "stdout",
     "output_type": "stream",
     "text": [
      "Requirement already satisfied: jupyterlab in c:\\users\\de\\anaconda3\\lib\\site-packages (3.2.1)\n",
      "Collecting jupyterlab\n",
      "  Downloading jupyterlab-3.4.3-py3-none-any.whl (8.8 MB)\n",
      "Requirement already satisfied: jupyter-core in c:\\users\\de\\anaconda3\\lib\\site-packages (from jupyterlab) (4.8.1)\n",
      "Collecting jupyterlab-server~=2.10\n",
      "  Downloading jupyterlab_server-2.14.0-py3-none-any.whl (54 kB)\n",
      "Requirement already satisfied: jinja2>=2.1 in c:\\users\\de\\anaconda3\\lib\\site-packages (from jupyterlab) (2.11.3)\n",
      "Requirement already satisfied: tornado>=6.1.0 in c:\\users\\de\\anaconda3\\lib\\site-packages (from jupyterlab) (6.1)\n",
      "Collecting jupyter-server~=1.16\n",
      "  Downloading jupyter_server-1.17.1-py3-none-any.whl (344 kB)\n",
      "Requirement already satisfied: packaging in c:\\users\\de\\anaconda3\\lib\\site-packages (from jupyterlab) (21.0)\n",
      "Requirement already satisfied: ipython in c:\\users\\de\\anaconda3\\lib\\site-packages (from jupyterlab) (7.29.0)\n",
      "Requirement already satisfied: nbclassic~=0.2 in c:\\users\\de\\anaconda3\\lib\\site-packages (from jupyterlab) (0.2.6)\n",
      "Requirement already satisfied: MarkupSafe>=0.23 in c:\\users\\de\\anaconda3\\lib\\site-packages (from jinja2>=2.1->jupyterlab) (1.1.1)\n",
      "Requirement already satisfied: pywinpty in c:\\users\\de\\anaconda3\\lib\\site-packages (from jupyter-server~=1.16->jupyterlab) (0.5.7)\n",
      "Requirement already satisfied: traitlets>=5.1 in c:\\users\\de\\anaconda3\\lib\\site-packages (from jupyter-server~=1.16->jupyterlab) (5.1.0)\n",
      "Collecting anyio<4,>=3.1.0\n",
      "  Downloading anyio-3.6.1-py3-none-any.whl (80 kB)\n",
      "Requirement already satisfied: jupyter-client>=6.1.12 in c:\\users\\de\\anaconda3\\lib\\site-packages (from jupyter-server~=1.16->jupyterlab) (6.1.12)\n",
      "Requirement already satisfied: argon2-cffi in c:\\users\\de\\anaconda3\\lib\\site-packages (from jupyter-server~=1.16->jupyterlab) (20.1.0)\n",
      "Collecting nbformat>=5.2.0\n",
      "  Downloading nbformat-5.4.0-py3-none-any.whl (73 kB)\n",
      "Requirement already satisfied: Send2Trash in c:\\users\\de\\anaconda3\\lib\\site-packages (from jupyter-server~=1.16->jupyterlab) (1.8.0)\n",
      "Requirement already satisfied: pyzmq>=17 in c:\\users\\de\\anaconda3\\lib\\site-packages (from jupyter-server~=1.16->jupyterlab) (22.2.1)\n",
      "Requirement already satisfied: prometheus-client in c:\\users\\de\\anaconda3\\lib\\site-packages (from jupyter-server~=1.16->jupyterlab) (0.11.0)\n",
      "Requirement already satisfied: terminado>=0.8.3 in c:\\users\\de\\anaconda3\\lib\\site-packages (from jupyter-server~=1.16->jupyterlab) (0.9.4)\n",
      "Requirement already satisfied: websocket-client in c:\\users\\de\\anaconda3\\lib\\site-packages (from jupyter-server~=1.16->jupyterlab) (1.3.2)\n",
      "Collecting nbconvert>=6.4.4\n",
      "  Downloading nbconvert-6.5.0-py3-none-any.whl (561 kB)\n",
      "Requirement already satisfied: idna>=2.8 in c:\\users\\de\\anaconda3\\lib\\site-packages (from anyio<4,>=3.1.0->jupyter-server~=1.16->jupyterlab) (3.2)\n",
      "Requirement already satisfied: sniffio>=1.1 in c:\\users\\de\\anaconda3\\lib\\site-packages (from anyio<4,>=3.1.0->jupyter-server~=1.16->jupyterlab) (1.2.0)\n",
      "Requirement already satisfied: python-dateutil>=2.1 in c:\\users\\de\\anaconda3\\lib\\site-packages (from jupyter-client>=6.1.12->jupyter-server~=1.16->jupyterlab) (2.8.2)\n",
      "Requirement already satisfied: pywin32>=1.0 in c:\\users\\de\\anaconda3\\lib\\site-packages (from jupyter-core->jupyterlab) (228)\n",
      "Requirement already satisfied: json5 in c:\\users\\de\\anaconda3\\lib\\site-packages (from jupyterlab-server~=2.10->jupyterlab) (0.9.6)\n",
      "Collecting jinja2>=2.1\n",
      "  Downloading Jinja2-3.1.2-py3-none-any.whl (133 kB)\n",
      "Requirement already satisfied: importlib-metadata>=3.6 in c:\\users\\de\\anaconda3\\lib\\site-packages (from jupyterlab-server~=2.10->jupyterlab) (4.8.1)\n",
      "Requirement already satisfied: jsonschema>=3.0.1 in c:\\users\\de\\anaconda3\\lib\\site-packages (from jupyterlab-server~=2.10->jupyterlab) (3.2.0)\n",
      "Requirement already satisfied: babel in c:\\users\\de\\anaconda3\\lib\\site-packages (from jupyterlab-server~=2.10->jupyterlab) (2.9.1)\n",
      "Requirement already satisfied: requests in c:\\users\\de\\anaconda3\\lib\\site-packages (from jupyterlab-server~=2.10->jupyterlab) (2.26.0)\n",
      "Requirement already satisfied: zipp>=0.5 in c:\\users\\de\\anaconda3\\lib\\site-packages (from importlib-metadata>=3.6->jupyterlab-server~=2.10->jupyterlab) (3.6.0)\n",
      "Collecting MarkupSafe>=0.23\n",
      "  Downloading MarkupSafe-2.1.1-cp39-cp39-win_amd64.whl (17 kB)\n",
      "Requirement already satisfied: setuptools in c:\\users\\de\\anaconda3\\lib\\site-packages (from jsonschema>=3.0.1->jupyterlab-server~=2.10->jupyterlab) (58.0.4)\n",
      "Requirement already satisfied: six>=1.11.0 in c:\\users\\de\\anaconda3\\lib\\site-packages (from jsonschema>=3.0.1->jupyterlab-server~=2.10->jupyterlab) (1.16.0)\n",
      "Requirement already satisfied: pyrsistent>=0.14.0 in c:\\users\\de\\anaconda3\\lib\\site-packages (from jsonschema>=3.0.1->jupyterlab-server~=2.10->jupyterlab) (0.18.0)\n",
      "Requirement already satisfied: attrs>=17.4.0 in c:\\users\\de\\anaconda3\\lib\\site-packages (from jsonschema>=3.0.1->jupyterlab-server~=2.10->jupyterlab) (21.2.0)\n",
      "Requirement already satisfied: notebook<7 in c:\\users\\de\\anaconda3\\lib\\site-packages (from nbclassic~=0.2->jupyterlab) (6.4.5)\n",
      "Requirement already satisfied: beautifulsoup4 in c:\\users\\de\\anaconda3\\lib\\site-packages (from nbconvert>=6.4.4->jupyter-server~=1.16->jupyterlab) (4.10.0)\n",
      "Requirement already satisfied: defusedxml in c:\\users\\de\\anaconda3\\lib\\site-packages (from nbconvert>=6.4.4->jupyter-server~=1.16->jupyterlab) (0.7.1)\n",
      "Requirement already satisfied: jupyterlab-pygments in c:\\users\\de\\anaconda3\\lib\\site-packages (from nbconvert>=6.4.4->jupyter-server~=1.16->jupyterlab) (0.1.2)\n",
      "Requirement already satisfied: bleach in c:\\users\\de\\anaconda3\\lib\\site-packages (from nbconvert>=6.4.4->jupyter-server~=1.16->jupyterlab) (4.0.0)\n",
      "Requirement already satisfied: nbclient>=0.5.0 in c:\\users\\de\\anaconda3\\lib\\site-packages (from nbconvert>=6.4.4->jupyter-server~=1.16->jupyterlab) (0.5.3)\n",
      "Requirement already satisfied: mistune<2,>=0.8.1 in c:\\users\\de\\anaconda3\\lib\\site-packages (from nbconvert>=6.4.4->jupyter-server~=1.16->jupyterlab) (0.8.4)\n",
      "Requirement already satisfied: pandocfilters>=1.4.1 in c:\\users\\de\\anaconda3\\lib\\site-packages (from nbconvert>=6.4.4->jupyter-server~=1.16->jupyterlab) (1.4.3)\n",
      "Requirement already satisfied: pygments>=2.4.1 in c:\\users\\de\\anaconda3\\lib\\site-packages (from nbconvert>=6.4.4->jupyter-server~=1.16->jupyterlab) (2.10.0)\n",
      "Collecting tinycss2\n",
      "  Downloading tinycss2-1.1.1-py3-none-any.whl (21 kB)\n",
      "Requirement already satisfied: entrypoints>=0.2.2 in c:\\users\\de\\anaconda3\\lib\\site-packages (from nbconvert>=6.4.4->jupyter-server~=1.16->jupyterlab) (0.3)\n",
      "Requirement already satisfied: async-generator in c:\\users\\de\\anaconda3\\lib\\site-packages (from nbclient>=0.5.0->nbconvert>=6.4.4->jupyter-server~=1.16->jupyterlab) (1.10)\n",
      "Requirement already satisfied: nest-asyncio in c:\\users\\de\\anaconda3\\lib\\site-packages (from nbclient>=0.5.0->nbconvert>=6.4.4->jupyter-server~=1.16->jupyterlab) (1.5.1)\n",
      "Requirement already satisfied: fastjsonschema in c:\\users\\de\\anaconda3\\lib\\site-packages (from nbformat>=5.2.0->jupyter-server~=1.16->jupyterlab) (2.15.3)\n",
      "Requirement already satisfied: ipykernel in c:\\users\\de\\anaconda3\\lib\\site-packages (from notebook<7->nbclassic~=0.2->jupyterlab) (6.4.1)\n",
      "Requirement already satisfied: ipython-genutils in c:\\users\\de\\anaconda3\\lib\\site-packages (from notebook<7->nbclassic~=0.2->jupyterlab) (0.2.0)\n",
      "Requirement already satisfied: cffi>=1.0.0 in c:\\users\\de\\anaconda3\\lib\\site-packages (from argon2-cffi->jupyter-server~=1.16->jupyterlab) (1.14.6)\n",
      "Requirement already satisfied: pycparser in c:\\users\\de\\anaconda3\\lib\\site-packages (from cffi>=1.0.0->argon2-cffi->jupyter-server~=1.16->jupyterlab) (2.20)\n",
      "Requirement already satisfied: pytz>=2015.7 in c:\\users\\de\\anaconda3\\lib\\site-packages (from babel->jupyterlab-server~=2.10->jupyterlab) (2021.3)Note: you may need to restart the kernel to use updated packages.\n"
     ]
    },
    {
     "name": "stderr",
     "output_type": "stream",
     "text": [
      "ERROR: pip's dependency resolver does not currently take into account all the packages that are installed. This behaviour is the source of the following dependency conflicts.\n",
      "spyder 5.1.5 requires pyqt5<5.13, which is not installed.\n",
      "spyder 5.1.5 requires pyqtwebengine<5.13, which is not installed.\n",
      "conda-repo-cli 1.0.4 requires pathlib, which is not installed.\n",
      "anaconda-project 0.10.1 requires ruamel-yaml, which is not installed.\n",
      "cookiecutter 1.7.2 requires Jinja2<3.0.0, but you have jinja2 3.1.2 which is incompatible.\n",
      "cookiecutter 1.7.2 requires MarkupSafe<2.0.0, but you have markupsafe 2.1.1 which is incompatible.\n"
     ]
    },
    {
     "name": "stdout",
     "output_type": "stream",
     "text": [
      "\n",
      "Requirement already satisfied: soupsieve>1.2 in c:\\users\\de\\anaconda3\\lib\\site-packages (from beautifulsoup4->nbconvert>=6.4.4->jupyter-server~=1.16->jupyterlab) (2.2.1)\n",
      "Requirement already satisfied: webencodings in c:\\users\\de\\anaconda3\\lib\\site-packages (from bleach->nbconvert>=6.4.4->jupyter-server~=1.16->jupyterlab) (0.5.1)\n",
      "Requirement already satisfied: matplotlib-inline<0.2.0,>=0.1.0 in c:\\users\\de\\anaconda3\\lib\\site-packages (from ipykernel->notebook<7->nbclassic~=0.2->jupyterlab) (0.1.2)\n",
      "Requirement already satisfied: debugpy<2.0,>=1.0.0 in c:\\users\\de\\anaconda3\\lib\\site-packages (from ipykernel->notebook<7->nbclassic~=0.2->jupyterlab) (1.4.1)\n",
      "Requirement already satisfied: pickleshare in c:\\users\\de\\anaconda3\\lib\\site-packages (from ipython->jupyterlab) (0.7.5)\n",
      "Requirement already satisfied: decorator in c:\\users\\de\\anaconda3\\lib\\site-packages (from ipython->jupyterlab) (5.1.0)\n",
      "Requirement already satisfied: jedi>=0.16 in c:\\users\\de\\anaconda3\\lib\\site-packages (from ipython->jupyterlab) (0.18.0)\n",
      "Requirement already satisfied: colorama in c:\\users\\de\\anaconda3\\lib\\site-packages (from ipython->jupyterlab) (0.4.4)\n",
      "Requirement already satisfied: backcall in c:\\users\\de\\anaconda3\\lib\\site-packages (from ipython->jupyterlab) (0.2.0)\n",
      "Requirement already satisfied: prompt-toolkit!=3.0.0,!=3.0.1,<3.1.0,>=2.0.0 in c:\\users\\de\\anaconda3\\lib\\site-packages (from ipython->jupyterlab) (3.0.20)\n",
      "Requirement already satisfied: parso<0.9.0,>=0.8.0 in c:\\users\\de\\anaconda3\\lib\\site-packages (from jedi>=0.16->ipython->jupyterlab) (0.8.2)\n",
      "Requirement already satisfied: wcwidth in c:\\users\\de\\anaconda3\\lib\\site-packages (from prompt-toolkit!=3.0.0,!=3.0.1,<3.1.0,>=2.0.0->ipython->jupyterlab) (0.2.5)\n",
      "Requirement already satisfied: pyparsing>=2.0.2 in c:\\users\\de\\anaconda3\\lib\\site-packages (from packaging->jupyterlab) (3.0.4)\n",
      "Requirement already satisfied: urllib3<1.27,>=1.21.1 in c:\\users\\de\\anaconda3\\lib\\site-packages (from requests->jupyterlab-server~=2.10->jupyterlab) (1.26.7)\n",
      "Requirement already satisfied: charset-normalizer~=2.0.0 in c:\\users\\de\\anaconda3\\lib\\site-packages (from requests->jupyterlab-server~=2.10->jupyterlab) (2.0.4)\n",
      "Requirement already satisfied: certifi>=2017.4.17 in c:\\users\\de\\anaconda3\\lib\\site-packages (from requests->jupyterlab-server~=2.10->jupyterlab) (2022.5.18.1)\n",
      "Installing collected packages: nbformat, MarkupSafe, tinycss2, jinja2, nbconvert, anyio, jupyter-server, jupyterlab-server, jupyterlab\n",
      "  Attempting uninstall: nbformat\n",
      "    Found existing installation: nbformat 5.1.3\n",
      "    Uninstalling nbformat-5.1.3:\n",
      "      Successfully uninstalled nbformat-5.1.3\n",
      "  Attempting uninstall: MarkupSafe\n",
      "    Found existing installation: MarkupSafe 1.1.1\n",
      "    Uninstalling MarkupSafe-1.1.1:\n",
      "      Successfully uninstalled MarkupSafe-1.1.1\n",
      "  Attempting uninstall: jinja2\n",
      "    Found existing installation: Jinja2 2.11.3\n",
      "    Uninstalling Jinja2-2.11.3:\n",
      "      Successfully uninstalled Jinja2-2.11.3\n",
      "  Attempting uninstall: nbconvert\n",
      "    Found existing installation: nbconvert 6.1.0\n",
      "    Uninstalling nbconvert-6.1.0:\n",
      "      Successfully uninstalled nbconvert-6.1.0\n",
      "  Attempting uninstall: anyio\n",
      "    Found existing installation: anyio 2.2.0\n",
      "    Uninstalling anyio-2.2.0:\n",
      "      Successfully uninstalled anyio-2.2.0\n",
      "  Attempting uninstall: jupyter-server\n",
      "    Found existing installation: jupyter-server 1.4.1\n",
      "    Uninstalling jupyter-server-1.4.1:\n",
      "      Successfully uninstalled jupyter-server-1.4.1\n",
      "  Attempting uninstall: jupyterlab-server\n",
      "    Found existing installation: jupyterlab-server 2.8.2\n",
      "    Uninstalling jupyterlab-server-2.8.2:\n",
      "      Successfully uninstalled jupyterlab-server-2.8.2\n",
      "  Attempting uninstall: jupyterlab\n",
      "    Found existing installation: jupyterlab 3.2.1\n",
      "    Uninstalling jupyterlab-3.2.1:\n",
      "      Successfully uninstalled jupyterlab-3.2.1\n",
      "Successfully installed MarkupSafe-2.1.1 anyio-3.6.1 jinja2-3.1.2 jupyter-server-1.17.1 jupyterlab-3.4.3 jupyterlab-server-2.14.0 nbconvert-6.5.0 nbformat-5.4.0 tinycss2-1.1.1\n"
     ]
    }
   ],
   "source": [
    "pip install --upgrade jupyterlab"
   ]
  },
  {
   "cell_type": "code",
   "execution_count": 9,
   "id": "3608f7bd",
   "metadata": {},
   "outputs": [
    {
     "name": "stdout",
     "output_type": "stream",
     "text": [
      "Collecting jupyterlab-gitNote: you may need to restart the kernel to use updated packages.\n",
      "  Downloading jupyterlab_git-0.37.1-py3-none-any.whl (1.2 MB)\n",
      "Requirement already satisfied: pexpect in c:\\users\\de\\anaconda3\\lib\\site-packages (from jupyterlab-git) (4.8.0)\n",
      "Collecting nbdime~=3.1\n",
      "  Downloading nbdime-3.1.1-py2.py3-none-any.whl (5.3 MB)\n",
      "Requirement already satisfied: nbformat in c:\\users\\de\\anaconda3\\lib\\site-packages (from jupyterlab-git) (5.4.0)\n",
      "Requirement already satisfied: jupyter-server in c:\\users\\de\\anaconda3\\lib\\site-packages (from jupyterlab-git) (1.17.1)\n",
      "Requirement already satisfied: packaging in c:\\users\\de\\anaconda3\\lib\\site-packages (from jupyterlab-git) (21.0)\n",
      "Requirement already satisfied: colorama in c:\\users\\de\\anaconda3\\lib\\site-packages (from nbdime~=3.1->jupyterlab-git) (0.4.4)\n",
      "Collecting GitPython!=2.1.4,!=2.1.5,!=2.1.6\n",
      "  Downloading GitPython-3.1.27-py3-none-any.whl (181 kB)\n",
      "Requirement already satisfied: jinja2>=2.9 in c:\\users\\de\\anaconda3\\lib\\site-packages (from nbdime~=3.1->jupyterlab-git) (3.1.2)\n",
      "Collecting jupyter-server-mathjax>=0.2.2\n",
      "  Downloading jupyter_server_mathjax-0.2.5-py3-none-any.whl (3.1 MB)\n",
      "Requirement already satisfied: tornado in c:\\users\\de\\anaconda3\\lib\\site-packages (from nbdime~=3.1->jupyterlab-git) (6.1)\n",
      "Requirement already satisfied: pygments in c:\\users\\de\\anaconda3\\lib\\site-packages (from nbdime~=3.1->jupyterlab-git) (2.10.0)\n",
      "Requirement already satisfied: requests in c:\\users\\de\\anaconda3\\lib\\site-packages (from nbdime~=3.1->jupyterlab-git) (2.26.0)\n",
      "Collecting gitdb<5,>=4.0.1\n",
      "  Downloading gitdb-4.0.9-py3-none-any.whl (63 kB)\n",
      "Collecting smmap<6,>=3.0.1\n",
      "  Downloading smmap-5.0.0-py3-none-any.whl (24 kB)\n",
      "Requirement already satisfied: MarkupSafe>=2.0 in c:\\users\\de\\anaconda3\\lib\\site-packages (from jinja2>=2.9->nbdime~=3.1->jupyterlab-git) (2.1.1)\n",
      "Requirement already satisfied: anyio<4,>=3.1.0 in c:\\users\\de\\anaconda3\\lib\\site-packages (from jupyter-server->jupyterlab-git) (3.6.1)\n",
      "Requirement already satisfied: jupyter-core>=4.7.0 in c:\\users\\de\\anaconda3\\lib\\site-packages (from jupyter-server->jupyterlab-git) (4.8.1)\n",
      "Requirement already satisfied: argon2-cffi in c:\\users\\de\\anaconda3\\lib\\site-packages (from jupyter-server->jupyterlab-git) (20.1.0)\n",
      "Requirement already satisfied: pyzmq>=17 in c:\\users\\de\\anaconda3\\lib\\site-packages (from jupyter-server->jupyterlab-git) (22.2.1)\n",
      "Requirement already satisfied: Send2Trash in c:\\users\\de\\anaconda3\\lib\\site-packages (from jupyter-server->jupyterlab-git) (1.8.0)\n",
      "Requirement already satisfied: websocket-client in c:\\users\\de\\anaconda3\\lib\\site-packages (from jupyter-server->jupyterlab-git) (1.3.2)\n",
      "Requirement already satisfied: terminado>=0.8.3 in c:\\users\\de\\anaconda3\\lib\\site-packages (from jupyter-server->jupyterlab-git) (0.9.4)\n",
      "Requirement already satisfied: pywinpty in c:\\users\\de\\anaconda3\\lib\\site-packages (from jupyter-server->jupyterlab-git) (0.5.7)\n",
      "Requirement already satisfied: traitlets>=5.1 in c:\\users\\de\\anaconda3\\lib\\site-packages (from jupyter-server->jupyterlab-git) (5.1.0)\n",
      "Requirement already satisfied: nbconvert>=6.4.4 in c:\\users\\de\\anaconda3\\lib\\site-packages (from jupyter-server->jupyterlab-git) (6.5.0)\n",
      "Requirement already satisfied: prometheus-client in c:\\users\\de\\anaconda3\\lib\\site-packages (from jupyter-server->jupyterlab-git) (0.11.0)\n",
      "Requirement already satisfied: jupyter-client>=6.1.12 in c:\\users\\de\\anaconda3\\lib\\site-packages (from jupyter-server->jupyterlab-git) (6.1.12)\n",
      "Requirement already satisfied: idna>=2.8 in c:\\users\\de\\anaconda3\\lib\\site-packages (from anyio<4,>=3.1.0->jupyter-server->jupyterlab-git) (3.2)\n",
      "Requirement already satisfied: sniffio>=1.1 in c:\\users\\de\\anaconda3\\lib\\site-packages (from anyio<4,>=3.1.0->jupyter-server->jupyterlab-git) (1.2.0)\n",
      "Requirement already satisfied: python-dateutil>=2.1 in c:\\users\\de\\anaconda3\\lib\\site-packages (from jupyter-client>=6.1.12->jupyter-server->jupyterlab-git) (2.8.2)\n",
      "Requirement already satisfied: pywin32>=1.0 in c:\\users\\de\\anaconda3\\lib\\site-packages (from jupyter-core>=4.7.0->jupyter-server->jupyterlab-git) (228)\n",
      "Requirement already satisfied: bleach in c:\\users\\de\\anaconda3\\lib\\site-packages (from nbconvert>=6.4.4->jupyter-server->jupyterlab-git) (4.0.0)\n",
      "Requirement already satisfied: jupyterlab-pygments in c:\\users\\de\\anaconda3\\lib\\site-packages (from nbconvert>=6.4.4->jupyter-server->jupyterlab-git) (0.1.2)\n",
      "Requirement already satisfied: mistune<2,>=0.8.1 in c:\\users\\de\\anaconda3\\lib\\site-packages (from nbconvert>=6.4.4->jupyter-server->jupyterlab-git) (0.8.4)\n",
      "Requirement already satisfied: beautifulsoup4 in c:\\users\\de\\anaconda3\\lib\\site-packages (from nbconvert>=6.4.4->jupyter-server->jupyterlab-git) (4.10.0)\n",
      "Requirement already satisfied: pandocfilters>=1.4.1 in c:\\users\\de\\anaconda3\\lib\\site-packages (from nbconvert>=6.4.4->jupyter-server->jupyterlab-git) (1.4.3)\n",
      "Requirement already satisfied: tinycss2 in c:\\users\\de\\anaconda3\\lib\\site-packages (from nbconvert>=6.4.4->jupyter-server->jupyterlab-git) (1.1.1)\n",
      "Requirement already satisfied: nbclient>=0.5.0 in c:\\users\\de\\anaconda3\\lib\\site-packages (from nbconvert>=6.4.4->jupyter-server->jupyterlab-git) (0.5.3)\n",
      "Requirement already satisfied: defusedxml in c:\\users\\de\\anaconda3\\lib\\site-packages (from nbconvert>=6.4.4->jupyter-server->jupyterlab-git) (0.7.1)\n",
      "Requirement already satisfied: entrypoints>=0.2.2 in c:\\users\\de\\anaconda3\\lib\\site-packages (from nbconvert>=6.4.4->jupyter-server->jupyterlab-git) (0.3)\n",
      "Requirement already satisfied: async-generator in c:\\users\\de\\anaconda3\\lib\\site-packages (from nbclient>=0.5.0->nbconvert>=6.4.4->jupyter-server->jupyterlab-git) (1.10)\n",
      "Requirement already satisfied: nest-asyncio in c:\\users\\de\\anaconda3\\lib\\site-packages (from nbclient>=0.5.0->nbconvert>=6.4.4->jupyter-server->jupyterlab-git) (1.5.1)\n",
      "Requirement already satisfied: fastjsonschema in c:\\users\\de\\anaconda3\\lib\\site-packages (from nbformat->jupyterlab-git) (2.15.3)\n",
      "Requirement already satisfied: jsonschema>=2.6 in c:\\users\\de\\anaconda3\\lib\\site-packages (from nbformat->jupyterlab-git) (3.2.0)\n",
      "Requirement already satisfied: attrs>=17.4.0 in c:\\users\\de\\anaconda3\\lib\\site-packages (from jsonschema>=2.6->nbformat->jupyterlab-git) (21.2.0)\n",
      "Requirement already satisfied: pyrsistent>=0.14.0 in c:\\users\\de\\anaconda3\\lib\\site-packages (from jsonschema>=2.6->nbformat->jupyterlab-git) (0.18.0)\n",
      "\n",
      "Requirement already satisfied: setuptools in c:\\users\\de\\anaconda3\\lib\\site-packages (from jsonschema>=2.6->nbformat->jupyterlab-git) (58.0.4)\n",
      "Requirement already satisfied: six>=1.11.0 in c:\\users\\de\\anaconda3\\lib\\site-packages (from jsonschema>=2.6->nbformat->jupyterlab-git) (1.16.0)\n",
      "Requirement already satisfied: cffi>=1.0.0 in c:\\users\\de\\anaconda3\\lib\\site-packages (from argon2-cffi->jupyter-server->jupyterlab-git) (1.14.6)\n",
      "Requirement already satisfied: pycparser in c:\\users\\de\\anaconda3\\lib\\site-packages (from cffi>=1.0.0->argon2-cffi->jupyter-server->jupyterlab-git) (2.20)\n",
      "Requirement already satisfied: soupsieve>1.2 in c:\\users\\de\\anaconda3\\lib\\site-packages (from beautifulsoup4->nbconvert>=6.4.4->jupyter-server->jupyterlab-git) (2.2.1)\n",
      "Requirement already satisfied: webencodings in c:\\users\\de\\anaconda3\\lib\\site-packages (from bleach->nbconvert>=6.4.4->jupyter-server->jupyterlab-git) (0.5.1)\n",
      "Requirement already satisfied: pyparsing>=2.0.2 in c:\\users\\de\\anaconda3\\lib\\site-packages (from packaging->jupyterlab-git) (3.0.4)\n",
      "Requirement already satisfied: ptyprocess>=0.5 in c:\\users\\de\\anaconda3\\lib\\site-packages (from pexpect->jupyterlab-git) (0.7.0)\n",
      "Requirement already satisfied: urllib3<1.27,>=1.21.1 in c:\\users\\de\\anaconda3\\lib\\site-packages (from requests->nbdime~=3.1->jupyterlab-git) (1.26.7)\n",
      "Requirement already satisfied: certifi>=2017.4.17 in c:\\users\\de\\anaconda3\\lib\\site-packages (from requests->nbdime~=3.1->jupyterlab-git) (2022.5.18.1)\n",
      "Requirement already satisfied: charset-normalizer~=2.0.0 in c:\\users\\de\\anaconda3\\lib\\site-packages (from requests->nbdime~=3.1->jupyterlab-git) (2.0.4)\n",
      "Installing collected packages: smmap, gitdb, jupyter-server-mathjax, GitPython, nbdime, jupyterlab-git\n",
      "Successfully installed GitPython-3.1.27 gitdb-4.0.9 jupyter-server-mathjax-0.2.5 jupyterlab-git-0.37.1 nbdime-3.1.1 smmap-5.0.0\n"
     ]
    }
   ],
   "source": [
    "pip install jupyterlab-git"
   ]
  },
  {
   "cell_type": "code",
   "execution_count": 13,
   "id": "29eb4b36",
   "metadata": {},
   "outputs": [
    {
     "ename": "SyntaxError",
     "evalue": "invalid syntax (Temp/ipykernel_2540/1149855917.py, line 1)",
     "output_type": "error",
     "traceback": [
      "\u001b[1;36m  File \u001b[1;32m\"C:\\Users\\De\\AppData\\Local\\Temp/ipykernel_2540/1149855917.py\"\u001b[1;36m, line \u001b[1;32m1\u001b[0m\n\u001b[1;33m    git version\u001b[0m\n\u001b[1;37m        ^\u001b[0m\n\u001b[1;31mSyntaxError\u001b[0m\u001b[1;31m:\u001b[0m invalid syntax\n"
     ]
    }
   ],
   "source": [
    "git version"
   ]
  },
  {
   "cell_type": "code",
   "execution_count": 14,
   "id": "a55b4865",
   "metadata": {},
   "outputs": [
    {
     "name": "stdout",
     "output_type": "stream",
     "text": [
      "Collecting risotto\n",
      "  Cloning https://github.com/mraspaud/risotto.git to c:\\users\\de\\appdata\\local\\temp\\pip-install-izz7m962\\risotto_6745c8a431c44ef6b6023200f411f43f\n",
      "Note: you may need to restart the kernel to use updated packages.\n"
     ]
    },
    {
     "name": "stderr",
     "output_type": "stream",
     "text": [
      "  Running command git clone -q https://github.com/mraspaud/risotto.git 'C:\\Users\\De\\AppData\\Local\\Temp\\pip-install-izz7m962\\risotto_6745c8a431c44ef6b6023200f411f43f'\n",
      "  ERROR: Error [WinError 2] The system cannot find the file specified while executing command git clone -q https://github.com/mraspaud/risotto.git 'C:\\Users\\De\\AppData\\Local\\Temp\\pip-install-izz7m962\\risotto_6745c8a431c44ef6b6023200f411f43f'\n",
      "ERROR: Cannot find command 'git' - do you have 'git' installed and in your PATH?\n"
     ]
    }
   ],
   "source": [
    "pip install git+https://github.com/mraspaud/risotto.git#egg=risotto"
   ]
  },
  {
   "cell_type": "code",
   "execution_count": null,
   "id": "01a7b6cd",
   "metadata": {},
   "outputs": [],
   "source": []
  }
 ],
 "metadata": {
  "kernelspec": {
   "display_name": "Python 3 (ipykernel)",
   "language": "python",
   "name": "python3"
  },
  "language_info": {
   "codemirror_mode": {
    "name": "ipython",
    "version": 3
   },
   "file_extension": ".py",
   "mimetype": "text/x-python",
   "name": "python",
   "nbconvert_exporter": "python",
   "pygments_lexer": "ipython3",
   "version": "3.9.7"
  }
 },
 "nbformat": 4,
 "nbformat_minor": 5
}
